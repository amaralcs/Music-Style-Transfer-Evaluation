{
 "cells": [
  {
   "cell_type": "markdown",
   "metadata": {},
   "source": [
    "# ChordGAN\n",
    "\n",
    "ChordGAN importing the models from a py file"
   ]
  },
  {
   "cell_type": "code",
   "execution_count": 1,
   "metadata": {},
   "outputs": [
    {
     "name": "stdout",
     "output_type": "stream",
     "text": [
      "TF version: 2.6.0\n",
      "Keras version: 2.6.0\n",
      "Numpy version: 1.21.2\n"
     ]
    }
   ],
   "source": [
    "import pretty_midi\n",
    "import reverse_pianoroll\n",
    "import convert\n",
    "import librosa\n",
    "\n",
    "import numpy as np\n",
    "import matplotlib.pyplot as plt\n",
    "import matplotlib.gridspec as gridspec\n",
    "import glob\n",
    "from datetime import datetime\n",
    "from functools import reduce\n",
    "\n",
    "import tensorflow as tf\n",
    "from tensorflow import keras\n",
    "from keras.models import Model, Sequential\n",
    "from keras.layers import Dense, Input, Concatenate\n",
    "from keras.initializers import GlorotNormal\n",
    "from keras.activations import sigmoid\n",
    "from keras.losses import Loss\n",
    "\n",
    "%load_ext lab_black\n",
    "%load_ext tensorboard\n",
    "\n",
    "\n",
    "# python script, in github repo\n",
    "print(\"TF version:\", tf.__version__)\n",
    "print(\"Keras version:\", keras.__version__)\n",
    "print(\"Numpy version:\", np.__version__)"
   ]
  },
  {
   "cell_type": "markdown",
   "metadata": {},
   "source": [
    "Use the following to avoid GPU errors (if needed)"
   ]
  },
  {
   "cell_type": "code",
   "execution_count": 2,
   "metadata": {},
   "outputs": [],
   "source": [
    "# physical_devices = tf.config.experimental.list_physical_devices('GPU')\n",
    "\n",
    "# for device in physical_devices:\n",
    "#     tf.config.experimental.set_memory_growth(device, True)"
   ]
  },
  {
   "cell_type": "markdown",
   "metadata": {},
   "source": [
    "## Setup helper functions"
   ]
  },
  {
   "cell_type": "code",
   "execution_count": 3,
   "metadata": {},
   "outputs": [],
   "source": [
    "n_timesteps = 4\n",
    "\n",
    "\n",
    "def get_chroma(song, chroma_dims=12, n_notes=78):\n",
    "    chroma = np.zeros(shape=(song.shape[0], chroma_dims))  # 12 chroma values\n",
    "    for i in np.arange(song.shape[0]):\n",
    "        for j in np.arange(n_notes):\n",
    "            if song[i][j] > 0:\n",
    "                chroma[i][np.mod(j, chroma_dims)] += 1\n",
    "    return chroma\n",
    "\n",
    "\n",
    "def reshape_step(input_, input_timesteps):\n",
    "    input_ = input_[: input_timesteps * n_timesteps]  # discard any extra timesteps\n",
    "    input_ = input_.reshape([input_timesteps, input_.shape[1] * n_timesteps])\n",
    "    return input_\n",
    "\n",
    "\n",
    "# add songs to data\n",
    "def get_songs(path):\n",
    "    files = glob.glob(\"{}/*.mid*\".format(path))\n",
    "    songs, fnames, chromas = [], [], []\n",
    "    for f in files:\n",
    "        try:\n",
    "            data = pretty_midi.PrettyMIDI(f)\n",
    "            song = data.get_piano_roll(fs=16)\n",
    "            song = convert.forward(song)\n",
    "            chroma = get_chroma(song)\n",
    "\n",
    "            # Reshaping steps\n",
    "            song_timesteps = song.shape[0] // n_timesteps\n",
    "            song = reshape_step(song, song_timesteps)\n",
    "            chroma = reshape_step(chroma, song_timesteps)\n",
    "\n",
    "            songs.append(song)\n",
    "            chromas.append(chroma)\n",
    "            fnames.append(f)\n",
    "        except Exception as e:\n",
    "            raise e\n",
    "    return songs, fnames, chromas\n",
    "\n",
    "\n",
    "# custom function to extract chroma features from song\n",
    "def get_chromas(songs, chroma_dims=12, n_notes=78):\n",
    "    \"\"\"\n",
    "    chroma_dims : int\n",
    "        The dimension of the chromas (12 notes in an equal tempered scale)\n",
    "    n_notes : int\n",
    "        The number of notes in the MIDI format\n",
    "    \"\"\"\n",
    "    chromas = []\n",
    "    for song in songs:\n",
    "        chroma = np.zeros(shape=(song.shape[0], chroma_dims))  # 12 chroma values\n",
    "        for i in np.arange(song.shape[0]):\n",
    "            for j in np.arange(n_notes):\n",
    "                if song[i][j] > 0:\n",
    "                    chroma[i][np.mod(j, chroma_dims)] += 1\n",
    "        # print(np.shape(chroma))\n",
    "        # Reshaping steps\n",
    "        chroma = reshape_step(chroma, trim=True)\n",
    "        chromas.append(chroma)\n",
    "\n",
    "    return chromas\n",
    "\n",
    "\n",
    "def join_datasets(song_ds, chroma_ds, shuffle_buffer=10000):\n",
    "    \"\"\"I don't think I need batching here, but I can include it \n",
    "    if I use `tf.data.Dataset.bucket_by_sequence_length`.\n",
    "\n",
    "    The map function expanding dims essentially creates a batch of size 1 so that \n",
    "    it fits the model inputs\n",
    "\n",
    "    \"\"\"\n",
    "    return (\n",
    "        tf.data.Dataset.zip((song_ds, chroma_ds))\n",
    "        .shuffle(shuffle_buffer)\n",
    "        .map(\n",
    "            lambda song, chroma: (\n",
    "                tf.expand_dims(song, axis=0),\n",
    "                tf.expand_dims(chroma, axis=0),\n",
    "            )\n",
    "        )\n",
    "    )"
   ]
  },
  {
   "cell_type": "markdown",
   "metadata": {},
   "source": [
    "## Load data"
   ]
  },
  {
   "cell_type": "code",
   "execution_count": 4,
   "metadata": {},
   "outputs": [
    {
     "name": "stderr",
     "output_type": "stream",
     "text": [
      "C:\\Users\\gamin\\anaconda3\\envs\\chordgan\\lib\\site-packages\\pretty_midi\\pretty_midi.py:97: RuntimeWarning: Tempo, Key or Time signature change events found on non-zero tracks.  This is not a valid type 0 or type 1 MIDI file.  Tempo, Key or Time Signature may be wrong.\n",
      "  warnings.warn(\n"
     ]
    },
    {
     "name": "stdout",
     "output_type": "stream",
     "text": [
      "122 songs processed\n"
     ]
    }
   ],
   "source": [
    "fpath = \"../data/chordGan/pop\"\n",
    "genre = fpath.split(\"/\")[-1]\n",
    "\n",
    "songs, fnames, chromas = get_songs(fpath)\n",
    "# chromas = get_chromas(songs)\n",
    "print(\"{} songs processed\".format(len(songs)))"
   ]
  },
  {
   "cell_type": "code",
   "execution_count": 5,
   "metadata": {},
   "outputs": [
    {
     "name": "stdout",
     "output_type": "stream",
     "text": [
      "(1, 36, 624) (1, 36, 48)\n"
     ]
    }
   ],
   "source": [
    "from functools import reduce\n",
    "\n",
    "dss = [tf.data.Dataset.from_tensors(s) for s in songs]\n",
    "song_ds = reduce(lambda x, y: x.concatenate(y), dss)\n",
    "\n",
    "dsc = [tf.data.Dataset.from_tensors(s) for s in chromas]\n",
    "chroma_ds = reduce(lambda x, y: x.concatenate(y), dsc)\n",
    "\n",
    "dataset = join_datasets(song_ds, chroma_ds)\n",
    "\n",
    "for (s, c) in dataset.take(1):\n",
    "    print(s.shape, c.shape)"
   ]
  },
  {
   "cell_type": "markdown",
   "metadata": {},
   "source": [
    "Let's peek at the chromas"
   ]
  },
  {
   "cell_type": "code",
   "execution_count": 6,
   "metadata": {},
   "outputs": [
    {
     "data": {
      "image/png": "[encoded data removed]",
      "text/plain": [
       "<Figure size 720x432 with 6 Axes>"
      ]
     },
     "metadata": {
      "needs_background": "light"
     },
     "output_type": "display_data"
    }
   ],
   "source": [
    "fig, axes = plt.subplots(3, 2, figsize=(10, 6))\n",
    "\n",
    "for i, (chroma, ax) in enumerate(zip(chromas[:10], axes.flatten())):\n",
    "    ax.set_title(f\"chroma number {i+1}\")\n",
    "    ax.imshow(chroma[:48].T, cmap=\"Greys\")\n",
    "plt.tight_layout()\n",
    "plt.show()"
   ]
  },
  {
   "cell_type": "code",
   "execution_count": 7,
   "metadata": {},
   "outputs": [
    {
     "data": {
      "image/png": "[encoded data removed]",
      "text/plain": [
       "<Figure size 720x432 with 6 Axes>"
      ]
     },
     "metadata": {
      "needs_background": "light"
     },
     "output_type": "display_data"
    }
   ],
   "source": [
    "fig, axes = plt.subplots(3, 2, figsize=(10, 6))\n",
    "\n",
    "for i, (song, ax) in enumerate(zip(songs[:10], axes.flatten())):\n",
    "    ax.set_title(f\"song number {i+1}\")\n",
    "    ax.imshow(song[:128].T, cmap=\"Greys\")\n",
    "plt.tight_layout()\n",
    "plt.show()"
   ]
  },
  {
   "cell_type": "markdown",
   "metadata": {},
   "source": [
    "TODO: Are the reshaped chromas/songs correct?"
   ]
  },
  {
   "cell_type": "markdown",
   "metadata": {},
   "source": [
    "## Setup GAN model"
   ]
  },
  {
   "cell_type": "markdown",
   "metadata": {},
   "source": [
    "Note:\n",
    "\n",
    "The discriminator has both the song timeseries and the chromagram as inputs, hence the two-dimensional inputs!"
   ]
  },
  {
   "cell_type": "code",
   "execution_count": 8,
   "metadata": {},
   "outputs": [],
   "source": [
    "from src.model import ChordGAN\n",
    "\n",
    "low_note, high_note = 0, 78  # The index of lowest/highest note on the piano roll\n",
    "note_range = high_note - low_note\n",
    "\n",
    "n_timesteps = 4  # This is the number of timesteps that we will create at a time\n",
    "X_dim = 2 * note_range * n_timesteps  # This is the size of the visible layer.\n",
    "Z_dim = 12 * n_timesteps\n",
    "\n",
    "cgan = ChordGAN(X_dim, Z_dim)\n",
    "cgan.compile(tf.keras.optimizers.Adam(), tf.keras.optimizers.Adam())"
   ]
  },
  {
   "cell_type": "markdown",
   "metadata": {},
   "source": [
    "Test the generator"
   ]
  },
  {
   "cell_type": "code",
   "execution_count": 9,
   "metadata": {},
   "outputs": [
    {
     "name": "stdout",
     "output_type": "stream",
     "text": [
      "(1, 64, 624)\n"
     ]
    },
    {
     "data": {
      "image/png": "[encoded data removed]",
      "text/plain": [
       "<Figure size 576x432 with 1 Axes>"
      ]
     },
     "metadata": {
      "needs_background": "light"
     },
     "output_type": "display_data"
    }
   ],
   "source": [
    "sample_chroma = chromas[0]\n",
    "sample_out = cgan.generator(sample_chroma[tf.newaxis, ...])\n",
    "\n",
    "print(sample_out.shape)\n",
    "plt.figure(figsize=(8, 6))\n",
    "plt.imshow(sample_out[0])\n",
    "plt.show()"
   ]
  },
  {
   "cell_type": "code",
   "execution_count": 10,
   "metadata": {},
   "outputs": [
    {
     "data": {
      "text/plain": [
       "<tf.Tensor: shape=(1, 64, 624), dtype=float32, numpy=\n",
       "array([[[0.32327676, 0.41935948, 0.46725246, ..., 0.34950575,\n",
       "         0.6210913 , 0.12948461],\n",
       "        [0.32327676, 0.41935948, 0.46725246, ..., 0.34950575,\n",
       "         0.6210913 , 0.12948461],\n",
       "        [0.32327676, 0.41935948, 0.46725246, ..., 0.34950575,\n",
       "         0.6210913 , 0.12948461],\n",
       "        ...,\n",
       "        [0.4977144 , 0.25775284, 0.28326178, ..., 0.25823474,\n",
       "         0.5827417 , 0.32074118],\n",
       "        [0.4977144 , 0.25775284, 0.28326178, ..., 0.25823474,\n",
       "         0.5827417 , 0.32074118],\n",
       "        [0.4977144 , 0.25775284, 0.28326178, ..., 0.25823474,\n",
       "         0.5827417 , 0.32074118]]], dtype=float32)>"
      ]
     },
     "execution_count": 10,
     "metadata": {},
     "output_type": "execute_result"
    }
   ],
   "source": [
    "sample_out"
   ]
  },
  {
   "cell_type": "markdown",
   "metadata": {},
   "source": [
    "Test the discriminator"
   ]
  },
  {
   "cell_type": "code",
   "execution_count": 11,
   "metadata": {},
   "outputs": [
    {
     "name": "stdout",
     "output_type": "stream",
     "text": [
      "shaped song shape: (64, 624)\n",
      "Probability this is a true song, not a generated song: 49.31% \n"
     ]
    }
   ],
   "source": [
    "sample_song = songs[0]\n",
    "print(\"shaped song shape:\", sample_song.shape)\n",
    "\n",
    "sample_logits, sample_probas = cgan.discriminator(\n",
    "    [sample_song[tf.newaxis, :10], sample_chroma[tf.newaxis, :10]]\n",
    ")\n",
    "print(\n",
    "    f\"Probability this is a true song, not a generated song: {tf.reduce_mean(sample_probas).numpy():.2%} \"\n",
    ")"
   ]
  },
  {
   "cell_type": "markdown",
   "metadata": {},
   "source": [
    "# Training\n",
    "\n",
    "We define a training step that will propagate the gradients for both generator and discriminator"
   ]
  },
  {
   "cell_type": "code",
   "execution_count": 23,
   "metadata": {},
   "outputs": [
    {
     "name": "stdout",
     "output_type": "stream",
     "text": [
      "Epoch 1/5\n",
      "122/122 [==============================] - 2s 13ms/step - d_loss: 0.0058 - g_loss: 11.5816\n",
      "Epoch 2/5\n",
      "122/122 [==============================] - 1s 12ms/step - d_loss: 0.0039 - g_loss: 12.8740\n",
      "Epoch 3/5\n",
      "122/122 [==============================] - 2s 13ms/step - d_loss: 0.0030 - g_loss: 13.0630\n",
      "Epoch 4/5\n",
      "122/122 [==============================] - 2s 14ms/step - d_loss: 0.0071 - g_loss: 12.2497\n",
      "Epoch 5/5\n",
      "122/122 [==============================] - 2s 15ms/step - d_loss: 0.0451 - g_loss: 10.9752\n"
     ]
    },
    {
     "data": {
      "text/plain": [
       "<keras.callbacks.History at 0x1a8e57b7fd0>"
      ]
     },
     "execution_count": 23,
     "metadata": {},
     "output_type": "execute_result"
    }
   ],
   "source": [
    "cgan.fit(dataset, batch_size=10, epochs=5)"
   ]
  },
  {
   "cell_type": "markdown",
   "metadata": {},
   "source": [
    "We can access the losses via `history.history`"
   ]
  },
  {
   "cell_type": "code",
   "execution_count": 21,
   "metadata": {},
   "outputs": [
    {
     "data": {
      "text/plain": [
       "{'d_loss': [0.07020437717437744,\n",
       "  0.14300507307052612,\n",
       "  0.049192726612091064,\n",
       "  0.014425333589315414,\n",
       "  0.00011438341607572511],\n",
       " 'g_loss': [7.6888427734375,\n",
       "  8.731822967529297,\n",
       "  6.896800994873047,\n",
       "  9.049870491027832,\n",
       "  15.197906494140625]}"
      ]
     },
     "execution_count": 21,
     "metadata": {},
     "output_type": "execute_result"
    }
   ],
   "source": [
    "cgan.history.history"
   ]
  },
  {
   "cell_type": "markdown",
   "metadata": {},
   "source": [
    "#### TODO:\n",
    "Now that i'm able to train the model, I need to implement the `call` method, that will convert the songs, if the model is trained."
   ]
  },
  {
   "cell_type": "code",
   "execution_count": null,
   "metadata": {},
   "outputs": [
    {
     "name": "stdout",
     "output_type": "stream",
     "text": [
      "(256, 156)\n",
      "(64, 624)\n"
     ]
    }
   ],
   "source": [
    "# Reshape song from song_timesteps x 2*note_range\n",
    "# to n_timesteps x 2*note_range\n",
    "# print(\"initial song shape\", song.shape)\n",
    "sample = songs[0]\n",
    "print(sample.shape)\n",
    "song_timesteps = sample.shape[0] // n_timesteps\n",
    "sample = sample[: song_timesteps * n_timesteps]  # discard any extra timesteps\n",
    "sample = sample.reshape([song_timesteps, sample.shape[1] * n_timesteps])\n",
    "print(sample.shape)"
   ]
  },
  {
   "cell_type": "code",
   "execution_count": null,
   "metadata": {},
   "outputs": [
    {
     "name": "stdout",
     "output_type": "stream",
     "text": [
      "Training for 500 epochs, each with 122 steps\n",
      "Epoch 1/500\n",
      "WARNING:tensorflow:5 out of the last 15 calls to <function train_step at 0x0000017894AE1F70> triggered tf.function retracing. Tracing is expensive and the excessive number of tracings could be due to (1) creating @tf.function repeatedly in a loop, (2) passing tensors with different shapes, (3) passing Python objects instead of tensors. For (1), please define your @tf.function outside of the loop. For (2), @tf.function has experimental_relax_shapes=True option that relaxes argument shapes that can avoid unnecessary retracing. For (3), please refer to https://www.tensorflow.org/guide/function#controlling_retracing and https://www.tensorflow.org/api_docs/python/tf/function for  more details.\n",
      "WARNING:tensorflow:6 out of the last 18 calls to <function train_step at 0x0000017894AE1F70> triggered tf.function retracing. Tracing is expensive and the excessive number of tracings could be due to (1) creating @tf.function repeatedly in a loop, (2) passing tensors with different shapes, (3) passing Python objects instead of tensors. For (1), please define your @tf.function outside of the loop. For (2), @tf.function has experimental_relax_shapes=True option that relaxes argument shapes that can avoid unnecessary retracing. For (3), please refer to https://www.tensorflow.org/guide/function#controlling_retracing and https://www.tensorflow.org/api_docs/python/tf/function for  more details.\n",
      "Epoch 2/500\n",
      "Epoch 3/500\n",
      "Epoch 4/500\n",
      "Epoch 5/500\n",
      "Epoch 6/500\n",
      "Epoch 7/500\n",
      "Epoch 8/500\n",
      "Epoch 9/500\n",
      "Epoch 10/500\n",
      "Epoch 11/500\n",
      "Epoch 12/500\n",
      "Epoch 13/500\n",
      "Epoch 14/500\n",
      "Epoch 15/500\n",
      "Epoch 16/500\n",
      "Epoch 17/500\n",
      "Epoch 18/500\n",
      "Epoch 19/500\n",
      "Epoch 20/500\n",
      "Epoch 21/500\n",
      "Epoch 22/500\n",
      "Epoch 23/500\n",
      "Epoch 24/500\n",
      "Epoch 25/500\n",
      "Epoch 26/500\n",
      "Epoch 27/500\n",
      "Epoch 28/500\n",
      "Epoch 29/500\n",
      "Epoch 30/500\n",
      "Epoch 31/500\n",
      "Epoch 32/500\n",
      "Epoch 33/500\n",
      "Epoch 34/500\n",
      "Epoch 35/500\n",
      "Epoch 36/500\n",
      "Epoch 37/500\n",
      "Epoch 38/500\n",
      "Epoch 39/500\n",
      "Epoch 40/500\n",
      "Epoch 41/500\n",
      "Epoch 42/500\n",
      "Epoch 43/500\n",
      "Epoch 44/500\n",
      "Epoch 45/500\n",
      "Epoch 46/500\n",
      "Epoch 47/500\n",
      "Epoch 48/500\n",
      "Epoch 49/500\n",
      "Epoch 50/500\n",
      "Epoch 51/500\n",
      "Epoch 52/500\n",
      "Epoch 53/500\n",
      "Epoch 54/500\n",
      "Epoch 55/500\n",
      "Epoch 56/500\n",
      "Epoch 57/500\n",
      "Epoch 58/500\n",
      "Epoch 59/500\n",
      "Epoch 60/500\n",
      "Epoch 61/500\n",
      "Epoch 62/500\n",
      "Epoch 63/500\n",
      "Epoch 64/500\n",
      "Epoch 65/500\n",
      "Epoch 66/500\n",
      "Epoch 67/500\n",
      "Epoch 68/500\n",
      "Epoch 69/500\n",
      "Epoch 70/500\n",
      "Epoch 71/500\n",
      "Epoch 72/500\n",
      "Epoch 73/500\n",
      "Epoch 74/500\n",
      "Epoch 75/500\n",
      "Epoch 76/500\n",
      "Epoch 77/500\n",
      "Epoch 78/500\n",
      "Epoch 79/500\n",
      "Epoch 80/500\n",
      "Epoch 81/500\n",
      "Epoch 82/500\n",
      "Epoch 83/500\n",
      "Epoch 84/500\n",
      "Epoch 85/500\n",
      "Epoch 86/500\n",
      "Epoch 87/500\n",
      "Epoch 88/500\n",
      "Epoch 89/500\n",
      "Epoch 90/500\n",
      "Epoch 91/500\n",
      "Epoch 92/500\n",
      "Epoch 93/500\n",
      "Epoch 94/500\n",
      "Epoch 95/500\n",
      "Epoch 96/500\n",
      "Epoch 97/500\n",
      "Epoch 98/500\n",
      "Epoch 99/500\n",
      "Epoch 100/500\n",
      "Epoch 101/500\n",
      "Epoch 102/500\n",
      "Epoch 103/500\n",
      "Epoch 104/500\n",
      "Epoch 105/500\n",
      "Epoch 106/500\n",
      "Epoch 107/500\n",
      "Epoch 108/500\n",
      "Epoch 109/500\n",
      "Epoch 110/500\n",
      "Epoch 111/500\n",
      "Epoch 112/500\n",
      "Epoch 113/500\n",
      "Epoch 114/500\n",
      "Epoch 115/500\n",
      "Epoch 116/500\n",
      "Epoch 117/500\n",
      "Epoch 118/500\n",
      "Epoch 119/500\n",
      "Epoch 120/500\n",
      "Epoch 121/500\n",
      "Epoch 122/500\n",
      "Epoch 123/500\n",
      "Epoch 124/500\n",
      "Epoch 125/500\n",
      "Epoch 126/500\n",
      "Epoch 127/500\n",
      "Epoch 128/500\n",
      "Epoch 129/500\n",
      "Epoch 130/500\n",
      "Epoch 131/500\n",
      "Epoch 132/500\n",
      "Epoch 133/500\n",
      "Epoch 134/500\n",
      "Epoch 135/500\n",
      "Epoch 136/500\n",
      "Epoch 137/500\n",
      "Epoch 138/500\n",
      "Epoch 139/500\n",
      "Epoch 140/500\n",
      "Epoch 141/500\n",
      "Epoch 142/500\n",
      "Epoch 143/500\n",
      "Epoch 144/500\n",
      "Epoch 145/500\n",
      "Epoch 146/500\n",
      "Epoch 147/500\n",
      "Epoch 148/500\n",
      "Epoch 149/500\n",
      "Epoch 150/500\n",
      "Epoch 151/500\n",
      "Epoch 152/500\n",
      "Epoch 153/500\n",
      "Epoch 154/500\n",
      "Epoch 155/500\n",
      "Epoch 156/500\n",
      "Epoch 157/500\n",
      "Epoch 158/500\n",
      "Epoch 159/500\n",
      "Epoch 160/500\n",
      "Epoch 161/500\n",
      "Epoch 162/500\n",
      "Epoch 163/500\n",
      "Epoch 164/500\n",
      "Epoch 165/500\n",
      "Epoch 166/500\n",
      "Epoch 167/500\n",
      "Epoch 168/500\n",
      "Epoch 169/500\n",
      "Epoch 170/500\n",
      "Epoch 171/500\n",
      "Epoch 172/500\n",
      "Epoch 173/500\n",
      "Epoch 174/500\n",
      "Epoch 175/500\n",
      "Epoch 176/500\n",
      "Epoch 177/500\n",
      "Epoch 178/500\n",
      "Epoch 179/500\n",
      "Epoch 180/500\n",
      "Epoch 181/500\n",
      "Epoch 182/500\n",
      "Epoch 183/500\n",
      "Epoch 184/500\n",
      "Epoch 185/500\n",
      "Epoch 186/500\n",
      "Epoch 187/500\n",
      "Epoch 188/500\n",
      "Epoch 189/500\n",
      "Epoch 190/500\n",
      "Epoch 191/500\n",
      "Epoch 192/500\n",
      "Epoch 193/500\n",
      "Epoch 194/500\n",
      "Epoch 195/500\n",
      "Epoch 196/500\n",
      "Epoch 197/500\n",
      "Epoch 198/500\n",
      "Epoch 199/500\n",
      "Epoch 200/500\n",
      "Epoch 201/500\n",
      "Epoch 202/500\n",
      "Epoch 203/500\n",
      "Epoch 204/500\n",
      "Epoch 205/500\n",
      "Epoch 206/500\n",
      "Epoch 207/500\n",
      "Epoch 208/500\n",
      "Epoch 209/500\n",
      "Epoch 210/500\n",
      "Epoch 211/500\n",
      "Epoch 212/500\n",
      "Epoch 213/500\n",
      "Epoch 214/500\n",
      "Epoch 215/500\n",
      "Epoch 216/500\n",
      "Epoch 217/500\n",
      "Epoch 218/500\n",
      "Epoch 219/500\n",
      "Epoch 220/500\n",
      "Epoch 221/500\n",
      "Epoch 222/500\n",
      "Epoch 223/500\n",
      "Epoch 224/500\n",
      "Epoch 225/500\n",
      "Epoch 226/500\n",
      "Epoch 227/500\n",
      "Epoch 228/500\n",
      "Epoch 229/500\n",
      "Epoch 230/500\n",
      "Epoch 231/500\n",
      "Epoch 232/500\n",
      "Epoch 233/500\n",
      "Epoch 234/500\n",
      "Epoch 235/500\n",
      "Epoch 236/500\n",
      "Epoch 237/500\n",
      "Epoch 238/500\n",
      "Epoch 239/500\n",
      "Epoch 240/500\n",
      "Epoch 241/500\n",
      "Epoch 242/500\n",
      "Epoch 243/500\n",
      "Epoch 244/500\n",
      "Epoch 245/500\n",
      "Epoch 246/500\n",
      "Epoch 247/500\n",
      "Epoch 248/500\n",
      "Epoch 249/500\n",
      "Epoch 250/500\n",
      "Epoch 251/500\n",
      "Epoch 252/500\n",
      "Epoch 253/500\n",
      "Epoch 254/500\n",
      "Epoch 255/500\n",
      "Epoch 256/500\n",
      "Epoch 257/500\n",
      "Epoch 258/500\n",
      "Epoch 259/500\n",
      "Epoch 260/500\n",
      "Epoch 261/500\n",
      "Epoch 262/500\n",
      "Epoch 263/500\n",
      "Epoch 264/500\n",
      "Epoch 265/500\n",
      "Epoch 266/500\n",
      "Epoch 267/500\n",
      "Epoch 268/500\n",
      "Epoch 269/500\n",
      "Epoch 270/500\n",
      "Epoch 271/500\n",
      "Epoch 272/500\n",
      "Epoch 273/500\n",
      "Epoch 274/500\n",
      "Epoch 275/500\n",
      "Epoch 276/500\n",
      "Epoch 277/500\n",
      "Epoch 278/500\n",
      "Epoch 279/500\n",
      "Epoch 280/500\n",
      "Epoch 281/500\n",
      "Epoch 282/500\n",
      "Epoch 283/500\n",
      "Epoch 284/500\n",
      "Epoch 285/500\n",
      "Epoch 286/500\n",
      "Epoch 287/500\n",
      "Epoch 288/500\n",
      "Epoch 289/500\n",
      "Epoch 290/500\n",
      "Epoch 291/500\n",
      "Epoch 292/500\n",
      "Epoch 293/500\n",
      "Epoch 294/500\n",
      "Epoch 295/500\n",
      "Epoch 296/500\n",
      "Epoch 297/500\n",
      "Epoch 298/500\n",
      "Epoch 299/500\n",
      "Epoch 300/500\n",
      "Epoch 301/500\n",
      "Epoch 302/500\n",
      "Epoch 303/500\n",
      "Epoch 304/500\n",
      "Epoch 305/500\n",
      "Epoch 306/500\n",
      "Epoch 307/500\n",
      "Epoch 308/500\n",
      "Epoch 309/500\n",
      "Epoch 310/500\n",
      "Epoch 311/500\n",
      "Epoch 312/500\n",
      "Epoch 313/500\n",
      "Epoch 314/500\n",
      "Epoch 315/500\n",
      "Epoch 316/500\n",
      "Epoch 317/500\n",
      "Epoch 318/500\n",
      "Epoch 319/500\n",
      "Epoch 320/500\n",
      "Epoch 321/500\n",
      "Epoch 322/500\n",
      "Epoch 323/500\n",
      "Epoch 324/500\n",
      "Epoch 325/500\n",
      "Epoch 326/500\n",
      "Epoch 327/500\n",
      "Epoch 328/500\n",
      "Epoch 329/500\n",
      "Epoch 330/500\n",
      "Epoch 331/500\n",
      "Epoch 332/500\n",
      "Epoch 333/500\n",
      "Epoch 334/500\n",
      "Epoch 335/500\n",
      "Epoch 336/500\n",
      "Epoch 337/500\n",
      "Epoch 338/500\n",
      "Epoch 339/500\n",
      "Epoch 340/500\n",
      "Epoch 341/500\n",
      "Epoch 342/500\n",
      "Epoch 343/500\n",
      "Epoch 344/500\n",
      "Epoch 345/500\n",
      "Epoch 346/500\n",
      "Epoch 347/500\n",
      "Epoch 348/500\n",
      "Epoch 349/500\n",
      "Epoch 350/500\n",
      "Epoch 351/500\n",
      "Epoch 352/500\n",
      "Epoch 353/500\n",
      "Epoch 354/500\n",
      "Epoch 355/500\n",
      "Epoch 356/500\n",
      "Epoch 357/500\n",
      "Epoch 358/500\n",
      "Epoch 359/500\n",
      "Epoch 360/500\n",
      "Epoch 361/500\n",
      "Epoch 362/500\n",
      "Epoch 363/500\n",
      "Epoch 364/500\n",
      "Epoch 365/500\n",
      "Epoch 366/500\n",
      "Epoch 367/500\n",
      "Epoch 368/500\n",
      "Epoch 369/500\n",
      "Epoch 370/500\n",
      "Epoch 371/500\n",
      "Epoch 372/500\n",
      "Epoch 373/500\n",
      "Epoch 374/500\n",
      "Epoch 375/500\n",
      "Epoch 376/500\n",
      "Epoch 377/500\n",
      "Epoch 378/500\n",
      "Epoch 379/500\n",
      "Epoch 380/500\n",
      "Epoch 381/500\n",
      "Epoch 382/500\n",
      "Epoch 383/500\n",
      "Epoch 384/500\n",
      "Epoch 385/500\n",
      "Epoch 386/500\n",
      "Epoch 387/500\n",
      "Epoch 388/500\n",
      "Epoch 389/500\n",
      "Epoch 390/500\n",
      "Epoch 391/500\n",
      "Epoch 392/500\n",
      "Epoch 393/500\n",
      "Epoch 394/500\n",
      "Epoch 395/500\n",
      "Epoch 396/500\n",
      "Epoch 397/500\n",
      "Epoch 398/500\n",
      "Epoch 399/500\n",
      "Epoch 400/500\n",
      "Epoch 401/500\n",
      "Epoch 402/500\n",
      "Epoch 403/500\n",
      "Epoch 404/500\n",
      "Epoch 405/500\n",
      "Epoch 406/500\n",
      "Epoch 407/500\n",
      "Epoch 408/500\n",
      "Epoch 409/500\n",
      "Epoch 410/500\n",
      "Epoch 411/500\n",
      "Epoch 412/500\n",
      "Epoch 413/500\n",
      "Epoch 414/500\n",
      "Epoch 415/500\n",
      "Epoch 416/500\n",
      "Epoch 417/500\n",
      "Epoch 418/500\n",
      "Epoch 419/500\n",
      "Epoch 420/500\n",
      "Epoch 421/500\n",
      "Epoch 422/500\n",
      "Epoch 423/500\n",
      "Epoch 424/500\n",
      "Epoch 425/500\n",
      "Epoch 426/500\n",
      "Epoch 427/500\n",
      "Epoch 428/500\n",
      "Epoch 429/500\n",
      "Epoch 430/500\n",
      "Epoch 431/500\n",
      "Epoch 432/500\n",
      "Epoch 433/500\n",
      "Epoch 434/500\n",
      "Epoch 435/500\n",
      "Epoch 436/500\n",
      "Epoch 437/500\n",
      "Epoch 438/500\n",
      "Epoch 439/500\n",
      "Epoch 440/500\n",
      "Epoch 441/500\n",
      "Epoch 442/500\n",
      "Epoch 443/500\n",
      "Epoch 444/500\n",
      "Epoch 445/500\n",
      "Epoch 446/500\n",
      "Epoch 447/500\n",
      "Epoch 448/500\n",
      "Epoch 449/500\n",
      "Epoch 450/500\n",
      "Epoch 451/500\n",
      "Epoch 452/500\n",
      "Epoch 453/500\n",
      "Epoch 454/500\n",
      "Epoch 455/500\n",
      "Epoch 456/500\n",
      "Epoch 457/500\n",
      "Epoch 458/500\n",
      "Epoch 459/500\n",
      "Epoch 460/500\n",
      "Epoch 461/500\n",
      "Epoch 462/500\n",
      "Epoch 463/500\n",
      "Epoch 464/500\n",
      "Epoch 465/500\n",
      "Epoch 466/500\n",
      "Epoch 467/500\n",
      "Epoch 468/500\n",
      "Epoch 469/500\n",
      "Epoch 470/500\n",
      "Epoch 471/500\n",
      "Epoch 472/500\n",
      "Epoch 473/500\n",
      "Epoch 474/500\n",
      "Epoch 475/500\n",
      "Epoch 476/500\n",
      "Epoch 477/500\n",
      "Epoch 478/500\n",
      "Epoch 479/500\n",
      "Epoch 480/500\n",
      "Epoch 481/500\n",
      "Epoch 482/500\n",
      "Epoch 483/500\n",
      "Epoch 484/500\n",
      "Epoch 485/500\n",
      "Epoch 486/500\n",
      "Epoch 487/500\n",
      "Epoch 488/500\n",
      "Epoch 489/500\n",
      "Epoch 490/500\n",
      "Epoch 491/500\n",
      "Epoch 492/500\n",
      "Epoch 493/500\n",
      "Epoch 494/500\n",
      "Epoch 495/500\n",
      "Epoch 496/500\n",
      "Epoch 497/500\n",
      "Epoch 498/500\n",
      "Epoch 499/500\n",
      "Epoch 500/500\n"
     ]
    }
   ],
   "source": [
    "num_epochs = 500\n",
    "batch_size = 10\n",
    "logs_path = f\"train_logs/base_chordgan/{genre}/\"\n",
    "writer = tf.summary.create_file_writer(logs_path)\n",
    "\n",
    "print(f\"Training for {num_epochs} epochs, each with {len(songs)} steps\")\n",
    "for epoch in range(num_epochs):\n",
    "    print(f\"Epoch {epoch+1}/{num_epochs}\", flush=True)\n",
    "    for step, (song, chroma) in enumerate(zip(songs, chromas)):\n",
    "        # Reshape song from song_timesteps x 2*note_range\n",
    "        # to n_timesteps x 2*note_range\n",
    "        # print(\"initial song shape\", song.shape)\n",
    "        song_timesteps = song.shape[0] // n_timesteps\n",
    "        song = song[: song_timesteps * n_timesteps]  # discard any extra timesteps\n",
    "        song = song.reshape([song_timesteps, song.shape[1] * n_timesteps])\n",
    "        # print(\"  final song shape\", song.shape)\n",
    "\n",
    "        # Similar process for the chroma\n",
    "        # print(\"initial chroma shape\", chroma.shape)\n",
    "        chroma = chroma[: song_timesteps * n_timesteps]\n",
    "        chroma = chroma.reshape([song_timesteps, chroma.shape[1] * n_timesteps])\n",
    "        # print(\"  final chroma shape\", chroma.shape)\n",
    "\n",
    "        # This is not really a batch size, it is actually splitting the songs\n",
    "        # in timesteps of size `batch_size` and training the model on the\n",
    "        # sequences\n",
    "        for idx in range(0, len(song), batch_size):\n",
    "            X = song[tf.newaxis, idx : idx + batch_size, ...]\n",
    "            Z = chroma[tf.newaxis, idx : idx + batch_size, ...]\n",
    "            # print(X.shape, Z.shape)\n",
    "            loss_writer = writer if step == len(songs) - 1 else None\n",
    "            train_step(X, Z, loss_writer=False, step=step)\n",
    "\n",
    "        if step + 1 % 10 == 0:\n",
    "            print(\".\", end=\"\", flush=True)"
   ]
  },
  {
   "cell_type": "code",
   "execution_count": null,
   "metadata": {},
   "outputs": [
    {
     "name": "stdout",
     "output_type": "stream",
     "text": [
      "WARNING:tensorflow:Compiled the loaded model, but the compiled metrics have yet to be built. `model.compile_metrics` will be empty until you train or evaluate the model.\n"
     ]
    },
    {
     "name": "stderr",
     "output_type": "stream",
     "text": [
      "WARNING:absl:Function `_wrapped_model` contains input name(s) G_input with unsupported characters which will be renamed to g_input in the SavedModel.\n"
     ]
    },
    {
     "name": "stdout",
     "output_type": "stream",
     "text": [
      "INFO:tensorflow:Assets written to: trained_models/pop/generator/base_500e\\assets\n"
     ]
    },
    {
     "name": "stderr",
     "output_type": "stream",
     "text": [
      "INFO:tensorflow:Assets written to: trained_models/pop/generator/base_500e\\assets\n"
     ]
    }
   ],
   "source": [
    "generator.save(\"trained_models/pop/generator/base_500e\")\n",
    "discriminator.save(\"trained_models/pop/discriminator/base_500e\")"
   ]
  },
  {
   "cell_type": "code",
   "execution_count": null,
   "metadata": {},
   "outputs": [
    {
     "name": "stdout",
     "output_type": "stream",
     "text": [
      "WARNING:tensorflow:No training configuration found in save file, so the model was *not* compiled. Compile it manually.\n"
     ]
    },
    {
     "name": "stderr",
     "output_type": "stream",
     "text": [
      "WARNING:tensorflow:No training configuration found in save file, so the model was *not* compiled. Compile it manually.\n"
     ]
    }
   ],
   "source": [
    "gen_loaded = keras.models.load_model(\"trained_models/pop/generator/base_500e\")"
   ]
  },
  {
   "cell_type": "code",
   "execution_count": null,
   "metadata": {},
   "outputs": [
    {
     "data": {
      "text/plain": [
       "<keras.engine.functional.Functional at 0x17b847be5e0>"
      ]
     },
     "execution_count": 30,
     "metadata": {},
     "output_type": "execute_result"
    }
   ],
   "source": [
    "gen_loaded"
   ]
  },
  {
   "cell_type": "markdown",
   "metadata": {},
   "source": [
    "Crude comparison of an the original input"
   ]
  },
  {
   "cell_type": "code",
   "execution_count": null,
   "metadata": {},
   "outputs": [
    {
     "data": {
      "image/png": "[encoded data removed]",
      "text/plain": [
       "<Figure size 576x432 with 1 Axes>"
      ]
     },
     "metadata": {
      "needs_background": "light"
     },
     "output_type": "display_data"
    }
   ],
   "source": [
    "plt.figure(figsize=(8, 6))\n",
    "plt.imshow(sample_song)\n",
    "plt.show()"
   ]
  },
  {
   "cell_type": "markdown",
   "metadata": {},
   "source": [
    "Against the generator output"
   ]
  },
  {
   "cell_type": "code",
   "execution_count": null,
   "metadata": {},
   "outputs": [
    {
     "data": {
      "image/png": "[encoded data removed]",
      "text/plain": [
       "<Figure size 576x432 with 1 Axes>"
      ]
     },
     "metadata": {
      "needs_background": "light"
     },
     "output_type": "display_data"
    }
   ],
   "source": [
    "out = generator(sample_chroma)\n",
    "\n",
    "plt.figure(figsize=(8, 6))\n",
    "plt.imshow(out)\n",
    "plt.show()"
   ]
  },
  {
   "cell_type": "code",
   "execution_count": null,
   "metadata": {},
   "outputs": [
    {
     "ename": "AttributeError",
     "evalue": "'function' object has no attribute 'get_concrete_function'",
     "output_type": "error",
     "traceback": [
      "\u001b[1;31m---------------------------------------------------------------------------\u001b[0m",
      "\u001b[1;31mAttributeError\u001b[0m                            Traceback (most recent call last)",
      "\u001b[1;32m~\\AppData\\Local\\Temp/ipykernel_15488/3673458909.py\u001b[0m in \u001b[0;36m<module>\u001b[1;34m\u001b[0m\n\u001b[1;32m----> 1\u001b[1;33m \u001b[0mgenerator\u001b[0m\u001b[1;33m.\u001b[0m\u001b[0mcall\u001b[0m\u001b[1;33m.\u001b[0m\u001b[0mget_concrete_function\u001b[0m\u001b[1;33m\u001b[0m\u001b[1;33m\u001b[0m\u001b[0m\n\u001b[0m",
      "\u001b[1;31mAttributeError\u001b[0m: 'function' object has no attribute 'get_concrete_function'"
     ]
    }
   ],
   "source": [
    "generator.call.get_concrete_function"
   ]
  },
  {
   "cell_type": "code",
   "execution_count": null,
   "metadata": {},
   "outputs": [
    {
     "ename": "ValueError",
     "evalue": "Could not find matching function to call loaded from the SavedModel. Got:\n  Positional arguments (1 total):\n    * Tensor(\"inputs:0\", shape=(64, 48), dtype=float32)\n  Keyword arguments: {}\n\nExpected these arguments to match one of the following 1 option(s):\n\nOption 1:\n  Positional arguments (1 total):\n    * TensorSpec(shape=(None, None, 48), dtype=tf.float32, name='inputs')\n  Keyword arguments: {}",
     "output_type": "error",
     "traceback": [
      "\u001b[1;31m---------------------------------------------------------------------------\u001b[0m",
      "\u001b[1;31mValueError\u001b[0m                                Traceback (most recent call last)",
      "\u001b[1;32m~\\AppData\\Local\\Temp/ipykernel_15488/1917135002.py\u001b[0m in \u001b[0;36m<module>\u001b[1;34m\u001b[0m\n\u001b[1;32m----> 1\u001b[1;33m \u001b[0mout\u001b[0m \u001b[1;33m=\u001b[0m \u001b[0mgen_loaded\u001b[0m\u001b[1;33m(\u001b[0m\u001b[0msample_chroma\u001b[0m\u001b[1;33m)\u001b[0m\u001b[1;33m\u001b[0m\u001b[1;33m\u001b[0m\u001b[0m\n\u001b[0m\u001b[0;32m      2\u001b[0m \u001b[1;33m\u001b[0m\u001b[0m\n\u001b[0;32m      3\u001b[0m \u001b[0mplt\u001b[0m\u001b[1;33m.\u001b[0m\u001b[0mfigure\u001b[0m\u001b[1;33m(\u001b[0m\u001b[0mfigsize\u001b[0m\u001b[1;33m=\u001b[0m\u001b[1;33m(\u001b[0m\u001b[1;36m8\u001b[0m\u001b[1;33m,\u001b[0m \u001b[1;36m6\u001b[0m\u001b[1;33m)\u001b[0m\u001b[1;33m)\u001b[0m\u001b[1;33m\u001b[0m\u001b[1;33m\u001b[0m\u001b[0m\n\u001b[0;32m      4\u001b[0m \u001b[0mplt\u001b[0m\u001b[1;33m.\u001b[0m\u001b[0mimshow\u001b[0m\u001b[1;33m(\u001b[0m\u001b[0mout\u001b[0m\u001b[1;33m)\u001b[0m\u001b[1;33m\u001b[0m\u001b[1;33m\u001b[0m\u001b[0m\n\u001b[0;32m      5\u001b[0m \u001b[0mplt\u001b[0m\u001b[1;33m.\u001b[0m\u001b[0mshow\u001b[0m\u001b[1;33m(\u001b[0m\u001b[1;33m)\u001b[0m\u001b[1;33m\u001b[0m\u001b[1;33m\u001b[0m\u001b[0m\n",
      "\u001b[1;32m~\\anaconda3\\envs\\chordgan\\lib\\site-packages\\keras\\engine\\base_layer.py\u001b[0m in \u001b[0;36m__call__\u001b[1;34m(self, *args, **kwargs)\u001b[0m\n\u001b[0;32m   1035\u001b[0m         with autocast_variable.enable_auto_cast_variables(\n\u001b[0;32m   1036\u001b[0m             self._compute_dtype_object):\n\u001b[1;32m-> 1037\u001b[1;33m           \u001b[0moutputs\u001b[0m \u001b[1;33m=\u001b[0m \u001b[0mcall_fn\u001b[0m\u001b[1;33m(\u001b[0m\u001b[0minputs\u001b[0m\u001b[1;33m,\u001b[0m \u001b[1;33m*\u001b[0m\u001b[0margs\u001b[0m\u001b[1;33m,\u001b[0m \u001b[1;33m**\u001b[0m\u001b[0mkwargs\u001b[0m\u001b[1;33m)\u001b[0m\u001b[1;33m\u001b[0m\u001b[1;33m\u001b[0m\u001b[0m\n\u001b[0m\u001b[0;32m   1038\u001b[0m \u001b[1;33m\u001b[0m\u001b[0m\n\u001b[0;32m   1039\u001b[0m         \u001b[1;32mif\u001b[0m \u001b[0mself\u001b[0m\u001b[1;33m.\u001b[0m\u001b[0m_activity_regularizer\u001b[0m\u001b[1;33m:\u001b[0m\u001b[1;33m\u001b[0m\u001b[1;33m\u001b[0m\u001b[0m\n",
      "\u001b[1;32m~\\anaconda3\\envs\\chordgan\\lib\\site-packages\\keras\\engine\\functional.py\u001b[0m in \u001b[0;36mcall\u001b[1;34m(self, inputs, training, mask)\u001b[0m\n\u001b[0;32m    412\u001b[0m         \u001b[0ma\u001b[0m \u001b[0mlist\u001b[0m \u001b[0mof\u001b[0m \u001b[0mtensors\u001b[0m \u001b[1;32mif\u001b[0m \u001b[0mthere\u001b[0m \u001b[0mare\u001b[0m \u001b[0mmore\u001b[0m \u001b[0mthan\u001b[0m \u001b[0mone\u001b[0m \u001b[0moutputs\u001b[0m\u001b[1;33m.\u001b[0m\u001b[1;33m\u001b[0m\u001b[1;33m\u001b[0m\u001b[0m\n\u001b[0;32m    413\u001b[0m     \"\"\"\n\u001b[1;32m--> 414\u001b[1;33m     return self._run_internal_graph(\n\u001b[0m\u001b[0;32m    415\u001b[0m         inputs, training=training, mask=mask)\n\u001b[0;32m    416\u001b[0m \u001b[1;33m\u001b[0m\u001b[0m\n",
      "\u001b[1;32m~\\anaconda3\\envs\\chordgan\\lib\\site-packages\\keras\\engine\\functional.py\u001b[0m in \u001b[0;36m_run_internal_graph\u001b[1;34m(self, inputs, training, mask)\u001b[0m\n\u001b[0;32m    548\u001b[0m \u001b[1;33m\u001b[0m\u001b[0m\n\u001b[0;32m    549\u001b[0m         \u001b[0margs\u001b[0m\u001b[1;33m,\u001b[0m \u001b[0mkwargs\u001b[0m \u001b[1;33m=\u001b[0m \u001b[0mnode\u001b[0m\u001b[1;33m.\u001b[0m\u001b[0mmap_arguments\u001b[0m\u001b[1;33m(\u001b[0m\u001b[0mtensor_dict\u001b[0m\u001b[1;33m)\u001b[0m\u001b[1;33m\u001b[0m\u001b[1;33m\u001b[0m\u001b[0m\n\u001b[1;32m--> 550\u001b[1;33m         \u001b[0moutputs\u001b[0m \u001b[1;33m=\u001b[0m \u001b[0mnode\u001b[0m\u001b[1;33m.\u001b[0m\u001b[0mlayer\u001b[0m\u001b[1;33m(\u001b[0m\u001b[1;33m*\u001b[0m\u001b[0margs\u001b[0m\u001b[1;33m,\u001b[0m \u001b[1;33m**\u001b[0m\u001b[0mkwargs\u001b[0m\u001b[1;33m)\u001b[0m\u001b[1;33m\u001b[0m\u001b[1;33m\u001b[0m\u001b[0m\n\u001b[0m\u001b[0;32m    551\u001b[0m \u001b[1;33m\u001b[0m\u001b[0m\n\u001b[0;32m    552\u001b[0m         \u001b[1;31m# Update tensor_dict.\u001b[0m\u001b[1;33m\u001b[0m\u001b[1;33m\u001b[0m\u001b[0m\n",
      "\u001b[1;32m~\\anaconda3\\envs\\chordgan\\lib\\site-packages\\keras\\engine\\base_layer.py\u001b[0m in \u001b[0;36m__call__\u001b[1;34m(self, *args, **kwargs)\u001b[0m\n\u001b[0;32m   1035\u001b[0m         with autocast_variable.enable_auto_cast_variables(\n\u001b[0;32m   1036\u001b[0m             self._compute_dtype_object):\n\u001b[1;32m-> 1037\u001b[1;33m           \u001b[0moutputs\u001b[0m \u001b[1;33m=\u001b[0m \u001b[0mcall_fn\u001b[0m\u001b[1;33m(\u001b[0m\u001b[0minputs\u001b[0m\u001b[1;33m,\u001b[0m \u001b[1;33m*\u001b[0m\u001b[0margs\u001b[0m\u001b[1;33m,\u001b[0m \u001b[1;33m**\u001b[0m\u001b[0mkwargs\u001b[0m\u001b[1;33m)\u001b[0m\u001b[1;33m\u001b[0m\u001b[1;33m\u001b[0m\u001b[0m\n\u001b[0m\u001b[0;32m   1038\u001b[0m \u001b[1;33m\u001b[0m\u001b[0m\n\u001b[0;32m   1039\u001b[0m         \u001b[1;32mif\u001b[0m \u001b[0mself\u001b[0m\u001b[1;33m.\u001b[0m\u001b[0m_activity_regularizer\u001b[0m\u001b[1;33m:\u001b[0m\u001b[1;33m\u001b[0m\u001b[1;33m\u001b[0m\u001b[0m\n",
      "\u001b[1;32m~\\anaconda3\\envs\\chordgan\\lib\\site-packages\\keras\\saving\\saved_model\\utils.py\u001b[0m in \u001b[0;36mreturn_outputs_and_add_losses\u001b[1;34m(*args, **kwargs)\u001b[0m\n\u001b[0;32m     66\u001b[0m       \u001b[0margs\u001b[0m \u001b[1;33m=\u001b[0m \u001b[0margs\u001b[0m\u001b[1;33m[\u001b[0m\u001b[1;36m1\u001b[0m\u001b[1;33m:\u001b[0m\u001b[1;33m]\u001b[0m\u001b[1;33m\u001b[0m\u001b[1;33m\u001b[0m\u001b[0m\n\u001b[0;32m     67\u001b[0m \u001b[1;33m\u001b[0m\u001b[0m\n\u001b[1;32m---> 68\u001b[1;33m     \u001b[0moutputs\u001b[0m\u001b[1;33m,\u001b[0m \u001b[0mlosses\u001b[0m \u001b[1;33m=\u001b[0m \u001b[0mfn\u001b[0m\u001b[1;33m(\u001b[0m\u001b[1;33m*\u001b[0m\u001b[0margs\u001b[0m\u001b[1;33m,\u001b[0m \u001b[1;33m**\u001b[0m\u001b[0mkwargs\u001b[0m\u001b[1;33m)\u001b[0m\u001b[1;33m\u001b[0m\u001b[1;33m\u001b[0m\u001b[0m\n\u001b[0m\u001b[0;32m     69\u001b[0m     \u001b[0mlayer\u001b[0m\u001b[1;33m.\u001b[0m\u001b[0madd_loss\u001b[0m\u001b[1;33m(\u001b[0m\u001b[0mlosses\u001b[0m\u001b[1;33m,\u001b[0m \u001b[0minputs\u001b[0m\u001b[1;33m=\u001b[0m\u001b[1;32mTrue\u001b[0m\u001b[1;33m)\u001b[0m\u001b[1;33m\u001b[0m\u001b[1;33m\u001b[0m\u001b[0m\n\u001b[0;32m     70\u001b[0m \u001b[1;33m\u001b[0m\u001b[0m\n",
      "\u001b[1;32m~\\anaconda3\\envs\\chordgan\\lib\\site-packages\\tensorflow\\python\\eager\\def_function.py\u001b[0m in \u001b[0;36m__call__\u001b[1;34m(self, *args, **kwds)\u001b[0m\n\u001b[0;32m    883\u001b[0m \u001b[1;33m\u001b[0m\u001b[0m\n\u001b[0;32m    884\u001b[0m       \u001b[1;32mwith\u001b[0m \u001b[0mOptionalXlaContext\u001b[0m\u001b[1;33m(\u001b[0m\u001b[0mself\u001b[0m\u001b[1;33m.\u001b[0m\u001b[0m_jit_compile\u001b[0m\u001b[1;33m)\u001b[0m\u001b[1;33m:\u001b[0m\u001b[1;33m\u001b[0m\u001b[1;33m\u001b[0m\u001b[0m\n\u001b[1;32m--> 885\u001b[1;33m         \u001b[0mresult\u001b[0m \u001b[1;33m=\u001b[0m \u001b[0mself\u001b[0m\u001b[1;33m.\u001b[0m\u001b[0m_call\u001b[0m\u001b[1;33m(\u001b[0m\u001b[1;33m*\u001b[0m\u001b[0margs\u001b[0m\u001b[1;33m,\u001b[0m \u001b[1;33m**\u001b[0m\u001b[0mkwds\u001b[0m\u001b[1;33m)\u001b[0m\u001b[1;33m\u001b[0m\u001b[1;33m\u001b[0m\u001b[0m\n\u001b[0m\u001b[0;32m    886\u001b[0m \u001b[1;33m\u001b[0m\u001b[0m\n\u001b[0;32m    887\u001b[0m       \u001b[0mnew_tracing_count\u001b[0m \u001b[1;33m=\u001b[0m \u001b[0mself\u001b[0m\u001b[1;33m.\u001b[0m\u001b[0mexperimental_get_tracing_count\u001b[0m\u001b[1;33m(\u001b[0m\u001b[1;33m)\u001b[0m\u001b[1;33m\u001b[0m\u001b[1;33m\u001b[0m\u001b[0m\n",
      "\u001b[1;32m~\\anaconda3\\envs\\chordgan\\lib\\site-packages\\tensorflow\\python\\eager\\def_function.py\u001b[0m in \u001b[0;36m_call\u001b[1;34m(self, *args, **kwds)\u001b[0m\n\u001b[0;32m    922\u001b[0m       \u001b[1;31m# In this case we have not created variables on the first call. So we can\u001b[0m\u001b[1;33m\u001b[0m\u001b[1;33m\u001b[0m\u001b[0m\n\u001b[0;32m    923\u001b[0m       \u001b[1;31m# run the first trace but we should fail if variables are created.\u001b[0m\u001b[1;33m\u001b[0m\u001b[1;33m\u001b[0m\u001b[0m\n\u001b[1;32m--> 924\u001b[1;33m       \u001b[0mresults\u001b[0m \u001b[1;33m=\u001b[0m \u001b[0mself\u001b[0m\u001b[1;33m.\u001b[0m\u001b[0m_stateful_fn\u001b[0m\u001b[1;33m(\u001b[0m\u001b[1;33m*\u001b[0m\u001b[0margs\u001b[0m\u001b[1;33m,\u001b[0m \u001b[1;33m**\u001b[0m\u001b[0mkwds\u001b[0m\u001b[1;33m)\u001b[0m\u001b[1;33m\u001b[0m\u001b[1;33m\u001b[0m\u001b[0m\n\u001b[0m\u001b[0;32m    925\u001b[0m       \u001b[1;32mif\u001b[0m \u001b[0mself\u001b[0m\u001b[1;33m.\u001b[0m\u001b[0m_created_variables\u001b[0m \u001b[1;32mand\u001b[0m \u001b[1;32mnot\u001b[0m \u001b[0mALLOW_DYNAMIC_VARIABLE_CREATION\u001b[0m\u001b[1;33m:\u001b[0m\u001b[1;33m\u001b[0m\u001b[1;33m\u001b[0m\u001b[0m\n\u001b[0;32m    926\u001b[0m         raise ValueError(\"Creating variables on a non-first call to a function\"\n",
      "\u001b[1;32m~\\anaconda3\\envs\\chordgan\\lib\\site-packages\\tensorflow\\python\\eager\\function.py\u001b[0m in \u001b[0;36m__call__\u001b[1;34m(self, *args, **kwargs)\u001b[0m\n\u001b[0;32m   3036\u001b[0m     \u001b[1;32mwith\u001b[0m \u001b[0mself\u001b[0m\u001b[1;33m.\u001b[0m\u001b[0m_lock\u001b[0m\u001b[1;33m:\u001b[0m\u001b[1;33m\u001b[0m\u001b[1;33m\u001b[0m\u001b[0m\n\u001b[0;32m   3037\u001b[0m       (graph_function,\n\u001b[1;32m-> 3038\u001b[1;33m        filtered_flat_args) = self._maybe_define_function(args, kwargs)\n\u001b[0m\u001b[0;32m   3039\u001b[0m     return graph_function._call_flat(\n\u001b[0;32m   3040\u001b[0m         filtered_flat_args, captured_inputs=graph_function.captured_inputs)  # pylint: disable=protected-access\n",
      "\u001b[1;32m~\\anaconda3\\envs\\chordgan\\lib\\site-packages\\tensorflow\\python\\eager\\function.py\u001b[0m in \u001b[0;36m_maybe_define_function\u001b[1;34m(self, args, kwargs)\u001b[0m\n\u001b[0;32m   3461\u001b[0m \u001b[1;33m\u001b[0m\u001b[0m\n\u001b[0;32m   3462\u001b[0m           \u001b[0mself\u001b[0m\u001b[1;33m.\u001b[0m\u001b[0m_function_cache\u001b[0m\u001b[1;33m.\u001b[0m\u001b[0mmissed\u001b[0m\u001b[1;33m.\u001b[0m\u001b[0madd\u001b[0m\u001b[1;33m(\u001b[0m\u001b[0mcall_context_key\u001b[0m\u001b[1;33m)\u001b[0m\u001b[1;33m\u001b[0m\u001b[1;33m\u001b[0m\u001b[0m\n\u001b[1;32m-> 3463\u001b[1;33m           \u001b[0mgraph_function\u001b[0m \u001b[1;33m=\u001b[0m \u001b[0mself\u001b[0m\u001b[1;33m.\u001b[0m\u001b[0m_create_graph_function\u001b[0m\u001b[1;33m(\u001b[0m\u001b[0margs\u001b[0m\u001b[1;33m,\u001b[0m \u001b[0mkwargs\u001b[0m\u001b[1;33m)\u001b[0m\u001b[1;33m\u001b[0m\u001b[1;33m\u001b[0m\u001b[0m\n\u001b[0m\u001b[0;32m   3464\u001b[0m           \u001b[0mself\u001b[0m\u001b[1;33m.\u001b[0m\u001b[0m_function_cache\u001b[0m\u001b[1;33m.\u001b[0m\u001b[0mprimary\u001b[0m\u001b[1;33m[\u001b[0m\u001b[0mcache_key\u001b[0m\u001b[1;33m]\u001b[0m \u001b[1;33m=\u001b[0m \u001b[0mgraph_function\u001b[0m\u001b[1;33m\u001b[0m\u001b[1;33m\u001b[0m\u001b[0m\n\u001b[0;32m   3465\u001b[0m \u001b[1;33m\u001b[0m\u001b[0m\n",
      "\u001b[1;32m~\\anaconda3\\envs\\chordgan\\lib\\site-packages\\tensorflow\\python\\eager\\function.py\u001b[0m in \u001b[0;36m_create_graph_function\u001b[1;34m(self, args, kwargs, override_flat_arg_shapes)\u001b[0m\n\u001b[0;32m   3296\u001b[0m     \u001b[0marg_names\u001b[0m \u001b[1;33m=\u001b[0m \u001b[0mbase_arg_names\u001b[0m \u001b[1;33m+\u001b[0m \u001b[0mmissing_arg_names\u001b[0m\u001b[1;33m\u001b[0m\u001b[1;33m\u001b[0m\u001b[0m\n\u001b[0;32m   3297\u001b[0m     graph_function = ConcreteFunction(\n\u001b[1;32m-> 3298\u001b[1;33m         func_graph_module.func_graph_from_py_func(\n\u001b[0m\u001b[0;32m   3299\u001b[0m             \u001b[0mself\u001b[0m\u001b[1;33m.\u001b[0m\u001b[0m_name\u001b[0m\u001b[1;33m,\u001b[0m\u001b[1;33m\u001b[0m\u001b[1;33m\u001b[0m\u001b[0m\n\u001b[0;32m   3300\u001b[0m             \u001b[0mself\u001b[0m\u001b[1;33m.\u001b[0m\u001b[0m_python_function\u001b[0m\u001b[1;33m,\u001b[0m\u001b[1;33m\u001b[0m\u001b[1;33m\u001b[0m\u001b[0m\n",
      "\u001b[1;32m~\\anaconda3\\envs\\chordgan\\lib\\site-packages\\tensorflow\\python\\framework\\func_graph.py\u001b[0m in \u001b[0;36mfunc_graph_from_py_func\u001b[1;34m(name, python_func, args, kwargs, signature, func_graph, autograph, autograph_options, add_control_dependencies, arg_names, op_return_value, collections, capture_by_value, override_flat_arg_shapes, acd_record_initial_resource_uses)\u001b[0m\n\u001b[0;32m   1005\u001b[0m         \u001b[0m_\u001b[0m\u001b[1;33m,\u001b[0m \u001b[0moriginal_func\u001b[0m \u001b[1;33m=\u001b[0m \u001b[0mtf_decorator\u001b[0m\u001b[1;33m.\u001b[0m\u001b[0munwrap\u001b[0m\u001b[1;33m(\u001b[0m\u001b[0mpython_func\u001b[0m\u001b[1;33m)\u001b[0m\u001b[1;33m\u001b[0m\u001b[1;33m\u001b[0m\u001b[0m\n\u001b[0;32m   1006\u001b[0m \u001b[1;33m\u001b[0m\u001b[0m\n\u001b[1;32m-> 1007\u001b[1;33m       \u001b[0mfunc_outputs\u001b[0m \u001b[1;33m=\u001b[0m \u001b[0mpython_func\u001b[0m\u001b[1;33m(\u001b[0m\u001b[1;33m*\u001b[0m\u001b[0mfunc_args\u001b[0m\u001b[1;33m,\u001b[0m \u001b[1;33m**\u001b[0m\u001b[0mfunc_kwargs\u001b[0m\u001b[1;33m)\u001b[0m\u001b[1;33m\u001b[0m\u001b[1;33m\u001b[0m\u001b[0m\n\u001b[0m\u001b[0;32m   1008\u001b[0m \u001b[1;33m\u001b[0m\u001b[0m\n\u001b[0;32m   1009\u001b[0m       \u001b[1;31m# invariant: `func_outputs` contains only Tensors, CompositeTensors,\u001b[0m\u001b[1;33m\u001b[0m\u001b[1;33m\u001b[0m\u001b[0m\n",
      "\u001b[1;32m~\\anaconda3\\envs\\chordgan\\lib\\site-packages\\tensorflow\\python\\eager\\def_function.py\u001b[0m in \u001b[0;36mwrapped_fn\u001b[1;34m(*args, **kwds)\u001b[0m\n\u001b[0;32m    666\u001b[0m         \u001b[1;31m# the function a weak reference to itself to avoid a reference cycle.\u001b[0m\u001b[1;33m\u001b[0m\u001b[1;33m\u001b[0m\u001b[0m\n\u001b[0;32m    667\u001b[0m         \u001b[1;32mwith\u001b[0m \u001b[0mOptionalXlaContext\u001b[0m\u001b[1;33m(\u001b[0m\u001b[0mcompile_with_xla\u001b[0m\u001b[1;33m)\u001b[0m\u001b[1;33m:\u001b[0m\u001b[1;33m\u001b[0m\u001b[1;33m\u001b[0m\u001b[0m\n\u001b[1;32m--> 668\u001b[1;33m           \u001b[0mout\u001b[0m \u001b[1;33m=\u001b[0m \u001b[0mweak_wrapped_fn\u001b[0m\u001b[1;33m(\u001b[0m\u001b[1;33m)\u001b[0m\u001b[1;33m.\u001b[0m\u001b[0m__wrapped__\u001b[0m\u001b[1;33m(\u001b[0m\u001b[1;33m*\u001b[0m\u001b[0margs\u001b[0m\u001b[1;33m,\u001b[0m \u001b[1;33m**\u001b[0m\u001b[0mkwds\u001b[0m\u001b[1;33m)\u001b[0m\u001b[1;33m\u001b[0m\u001b[1;33m\u001b[0m\u001b[0m\n\u001b[0m\u001b[0;32m    669\u001b[0m         \u001b[1;32mreturn\u001b[0m \u001b[0mout\u001b[0m\u001b[1;33m\u001b[0m\u001b[1;33m\u001b[0m\u001b[0m\n\u001b[0;32m    670\u001b[0m \u001b[1;33m\u001b[0m\u001b[0m\n",
      "\u001b[1;32m~\\anaconda3\\envs\\chordgan\\lib\\site-packages\\tensorflow\\python\\saved_model\\function_deserialization.py\u001b[0m in \u001b[0;36mrestored_function_body\u001b[1;34m(*args, **kwargs)\u001b[0m\n\u001b[0;32m    286\u001b[0m           \u001b[1;34m\"Option {}:\\n  {}\\n  Keyword arguments: {}\"\u001b[0m\u001b[1;33m\u001b[0m\u001b[1;33m\u001b[0m\u001b[0m\n\u001b[0;32m    287\u001b[0m           .format(index + 1, _pretty_format_positional(positional), keyword))\n\u001b[1;32m--> 288\u001b[1;33m     raise ValueError(\n\u001b[0m\u001b[0;32m    289\u001b[0m         \u001b[1;34m\"Could not find matching function to call loaded from the SavedModel. \"\u001b[0m\u001b[1;33m\u001b[0m\u001b[1;33m\u001b[0m\u001b[0m\n\u001b[0;32m    290\u001b[0m         \u001b[1;34m\"Got:\\n  {}\\n  Keyword arguments: {}\\n\\nExpected \"\u001b[0m\u001b[1;33m\u001b[0m\u001b[1;33m\u001b[0m\u001b[0m\n",
      "\u001b[1;31mValueError\u001b[0m: Could not find matching function to call loaded from the SavedModel. Got:\n  Positional arguments (1 total):\n    * Tensor(\"inputs:0\", shape=(64, 48), dtype=float32)\n  Keyword arguments: {}\n\nExpected these arguments to match one of the following 1 option(s):\n\nOption 1:\n  Positional arguments (1 total):\n    * TensorSpec(shape=(None, None, 48), dtype=tf.float32, name='inputs')\n  Keyword arguments: {}"
     ]
    }
   ],
   "source": [
    "out = gen_loaded(sample_chroma)\n",
    "\n",
    "plt.figure(figsize=(8, 6))\n",
    "plt.imshow(out)\n",
    "plt.show()"
   ]
  },
  {
   "cell_type": "markdown",
   "metadata": {},
   "source": [
    "Naturally it doesn't make sense to look at this as an image but it at least shows the result is close enough"
   ]
  },
  {
   "cell_type": "markdown",
   "metadata": {},
   "source": [
    "# Style Transfer"
   ]
  },
  {
   "cell_type": "code",
   "execution_count": null,
   "metadata": {},
   "outputs": [
    {
     "name": "stderr",
     "output_type": "stream",
     "text": [
      "C:\\Users\\gamin\\anaconda3\\envs\\chordgan\\lib\\site-packages\\pretty_midi\\pretty_midi.py:97: RuntimeWarning: Tempo, Key or Time signature change events found on non-zero tracks.  This is not a valid type 0 or type 1 MIDI file.  Tempo, Key or Time Signature may be wrong.\n",
      "  warnings.warn(\n"
     ]
    }
   ],
   "source": [
    "classical_songs, fpaths = get_songs(\"../data/chordGan/CLassical_Bach/bachpreludes\")\n",
    "classical_chromas = get_chromas(classical_songs)"
   ]
  },
  {
   "cell_type": "code",
   "execution_count": null,
   "metadata": {},
   "outputs": [],
   "source": [
    "if not os.path.exists(\"converted/\"):\n",
    "    os.makedirs(\"converted/\")\n",
    "\n",
    "for idx, (c_chroma, fpath) in enumerate(zip(classical_chromas, fpaths)):\n",
    "    # reshape\n",
    "    song_timesteps = c_chroma.shape[0] // n_timesteps\n",
    "    c_chroma = c_chroma[: song_timesteps * n_timesteps]\n",
    "    c_chroma = c_chroma.reshape(song_timesteps, c_chroma.shape[1] * n_timesteps)\n",
    "\n",
    "    converted_song = generator(c_chroma).numpy()\n",
    "    S = converted_song.reshape(\n",
    "        int(reduce(lambda x, y: x * y, converted_song.shape) / 2 / note_range),\n",
    "        2 * note_range,\n",
    "    )\n",
    "    S_thresh = (S >= 0.5).T\n",
    "    C = c_chroma.reshape(c_chroma.shape[0] * n_timesteps, 12)\n",
    "\n",
    "    output = reverse_pianoroll.piano_roll_to_pretty_midi(convert.back(S_thresh), fs=16)\n",
    "    fname = fpath.split(\"\\\\\")[-1]\n",
    "    output.write(f\"converted/{fname}.mid\")"
   ]
  },
  {
   "cell_type": "code",
   "execution_count": null,
   "metadata": {},
   "outputs": [
    {
     "data": {
      "text/plain": [
       "(652, 156)"
      ]
     },
     "execution_count": 18,
     "metadata": {},
     "output_type": "execute_result"
    }
   ],
   "source": [
    "S.shape"
   ]
  },
  {
   "cell_type": "code",
   "execution_count": null,
   "metadata": {},
   "outputs": [],
   "source": []
  }
 ],
 "metadata": {
  "interpreter": {
   "hash": "c451df2ee4a022de8b5d34d0f5e786a0cd89accac380895e70e2986b6f15379b"
  },
  "kernelspec": {
   "display_name": "Python 3.9.7 64-bit ('chordgan': conda)",
   "language": "python",
   "name": "python3"
  },
  "language_info": {
   "codemirror_mode": {
    "name": "ipython",
    "version": 3
   },
   "file_extension": ".py",
   "mimetype": "text/x-python",
   "name": "python",
   "nbconvert_exporter": "python",
   "pygments_lexer": "ipython3",
   "version": "3.9.7"
  },
  "orig_nbformat": 4
 },
 "nbformat": 4,
 "nbformat_minor": 2
}

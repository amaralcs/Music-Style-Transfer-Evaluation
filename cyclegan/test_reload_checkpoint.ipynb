{
 "cells": [
  {
   "cell_type": "code",
   "execution_count": 1,
   "metadata": {},
   "outputs": [],
   "source": [
    "import sys\n",
    "sys.path.append(\"src\")"
   ]
  },
  {
   "cell_type": "markdown",
   "metadata": {},
   "source": [
    "The model was ran with the following options\n",
    "\n",
    "```\n",
    " python .\\src\\tf2_main.py --dataset_A_dir .\\processed_midi\\phrases\\pop\\ --dataset_B_dir .\\processed_midi\\phrases\\jazz\\ --type cyclegan --model base --batch_size 16 --epoch 1 --save_freq 1\n",
    " ```"
   ]
  },
  {
   "cell_type": "code",
   "execution_count": 2,
   "metadata": {},
   "outputs": [],
   "source": [
    "from tf2_model import CycleGAN\n",
    "\n",
    "dataset_a = \"processed_midi/phrases/pop\"\n",
    "dataset_b = \"processed_midi/phrases/jazz\"\n",
    "model = \"base\"\n",
    "batch_size = 16\n",
    "time_steps = 64\n",
    "pitch_range = 84\n",
    "input_nc = 1\n",
    "output_nc = 1\n",
    "lr = \n",
    "\n",
    "\n",
    "CycleGAN"
   ]
  },
  {
   "cell_type": "code",
   "execution_count": null,
   "metadata": {},
   "outputs": [],
   "source": []
  }
 ],
 "metadata": {
  "interpreter": {
   "hash": "769a5868f83937c26802fec828a04ed08e12a71c25e96fb033d04865a96c7480"
  },
  "kernelspec": {
   "display_name": "Python 3.9.7 ('cyclegan')",
   "language": "python",
   "name": "python3"
  },
  "language_info": {
   "codemirror_mode": {
    "name": "ipython",
    "version": 3
   },
   "file_extension": ".py",
   "mimetype": "text/x-python",
   "name": "python",
   "nbconvert_exporter": "python",
   "pygments_lexer": "ipython3",
   "version": "3.9.7"
  },
  "orig_nbformat": 4
 },
 "nbformat": 4,
 "nbformat_minor": 2
}
